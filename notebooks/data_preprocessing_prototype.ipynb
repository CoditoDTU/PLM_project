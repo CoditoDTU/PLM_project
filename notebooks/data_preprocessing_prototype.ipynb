{
 "cells": [
  {
   "cell_type": "code",
   "execution_count": null,
   "metadata": {},
   "outputs": [],
   "source": [
    "import torch\n",
    "from torch.utils.data import Dataset, DataLoader, Sampler\n",
    "import random\n",
    "import torch\n",
    "from torch.utils.data import Dataset, DataLoader\n",
    "from pymongo import MongoClient\n",
    "from functools import reduce\n",
    "from collections import defaultdict\n",
    "import proteusAI as pai\n",
    "import os\n",
    "from typing import Union\n",
    "from pathlib import Path\n",
    "import esm"
   ]
  },
  {
   "cell_type": "code",
   "execution_count": 13,
   "metadata": {},
   "outputs": [],
   "source": [
    "def esm_compute(seqs: list, names: list=None, model: Union[str, torch.nn.Module]=\"esm1v\", rep_layer: int=33, device=None):\n",
    "    \"\"\"\n",
    "    Compute the of esm_tools models for a list of sequences.\n",
    " \n",
    "    Args:\n",
    "        seqs (list): protein sequences either as str or biotite.sequence.ProteinSequence.\n",
    "        names (list, default None): list of names/labels for protein sequences.\n",
    "            If None sequences will be named seq1, seq2, ...\n",
    "        model (str, torch.nn.Module): choose either esm2, esm1v or a pretrained model object.\n",
    "        rep_layer (int): choose representation layer. Default 33.\n",
    "        device (str): Choose hardware for computation. Default 'None' for autoselection\n",
    "                          other options are 'cpu' and 'cuda'.\n",
    " \n",
    "    Returns: representations (list) of sequence representation, batch lens and batch labels\n",
    " \n",
    "    Example:\n",
    "        seqs = [\"AGAVCTGAKLI\", \"AGHRFLIKLKI\"]\n",
    "        results, batch_lens, batch_labels = esm_compute(seqs)\n",
    "    \"\"\"\n",
    "    # detect device\n",
    "    if device == None:\n",
    "        device = torch.device('cuda' if torch.cuda.is_available() else 'cpu')\n",
    "    else:\n",
    "        device = torch.device(device)\n",
    " \n",
    "    # on M1 if mps available\n",
    "    #if device == torch.device(type='cpu'):\n",
    "    #    device = torch.device('mps' if torch.backends.mps.is_available() else 'cpu')\n",
    " \n",
    "    # load model\n",
    "    if isinstance(model, str):\n",
    "        if model == \"esm2\":\n",
    "            model, alphabet = esm.pretrained.esm2_t33_650M_UR50D()\n",
    "        elif model == \"esm1v\":\n",
    "            model, alphabet = esm.pretrained.esm1v_t33_650M_UR90S()\n",
    "        else:\n",
    "            raise ValueError(f\"{model} is not a valid model\")\n",
    "    elif isinstance(model, torch.nn.Module):\n",
    "        alphabet = torch.load(os.path.join(Path(__file__).parent, \"alphabet.pt\"))\n",
    "    else:\n",
    "        raise TypeError(\"Model should be either a string or a torch.nn.Module object\")\n",
    " \n",
    " \n",
    "    batch_converter = alphabet.get_batch_converter()\n",
    "    model.eval()\n",
    "    model.to(device)\n",
    " \n",
    "    if names == None:\n",
    "        names = names = [f'seq{i}' for i in range(len(seqs))]\n",
    " \n",
    "    data = list(zip(names, seqs))\n",
    " \n",
    "    # check datatype of sequences - str or biotite\n",
    "    if all(isinstance(x[0], str) and isinstance(x[1], str) for x in data):\n",
    "        pass  # all elements are strings\n",
    "    else:\n",
    "        data = [(x[0], str(x[1])) for x in data]\n",
    " \n",
    "    batch_labels, batch_strs, batch_tokens = batch_converter(data)\n",
    "    batch_lens = (batch_tokens != alphabet.padding_idx).sum(1)\n",
    " \n",
    "    # Extract per-residue representations (on CPU)\n",
    "    with torch.no_grad():\n",
    "        results = model(batch_tokens.to(device), repr_layers=[rep_layer], return_contacts=True)\n",
    " \n",
    "    return results, batch_lens, batch_labels, alphabet"
   ]
  },
  {
   "cell_type": "code",
   "execution_count": 5,
   "metadata": {},
   "outputs": [],
   "source": [
    "def connect_db():\n",
    "    # Connect to MongoDB with connection string\n",
    "    string_path = \"mongodb://127.0.0.1:27017/?directConnection=true&serverSelectionTimeoutMS=2000&appName=mongosh+2.3.3\"\n",
    "    \n",
    "    client = MongoClient(string_path)\n",
    "\n",
    "    # Create db\n",
    "    db = client['proteins']\n",
    "\n",
    "    # Access collection\n",
    "    collection = db['uniref_test']\n",
    "\n",
    "    return client, db, collection"
   ]
  },
  {
   "cell_type": "code",
   "execution_count": 6,
   "metadata": {},
   "outputs": [],
   "source": [
    "def get_taxon_sequence_data(collection):\n",
    "\n",
    "    # Define the query filter to exclude documents where sequence.length > 1024\n",
    "    query = {\n",
    "        \"sequence.length\": {\"$lte\": 1024}\n",
    "    }\n",
    "    projection = {\n",
    "    \"primaryAccession\": 1,    \n",
    "    \"organism.taxonId\": 1,   # Include taxonId from the organism field\n",
    "    \"sequence.value\": 1,      # Include value from the sequence field\n",
    "    \"sequence.length\": 1      # Include length from the sequence field\n",
    "    }\n",
    "    documents =  collection.find(query, projection)\n",
    "\n",
    "    minimal_documents = [] # Initialize new empty dictionary\n",
    "\n",
    "    for doc in documents:\n",
    "    # Create a new dictionary with only the desired properties\n",
    "        new_obj = {\n",
    "            \"primaryAccession\": doc.get(\"primaryAccession\",{}),\n",
    "            \"taxonId\": doc.get(\"organism\", {}).get(\"taxonId\"),\n",
    "            \"value\": doc.get(\"sequence\", {}).get(\"value\"),\n",
    "            \"length\": doc.get(\"sequence\", {}).get(\"length\")\n",
    "        }\n",
    "        minimal_documents.append(new_obj)\n",
    "\n",
    "\n",
    "    return minimal_documents\n",
    "    "
   ]
  },
  {
   "cell_type": "code",
   "execution_count": null,
   "metadata": {},
   "outputs": [],
   "source": [
    "client, db, collection = connect_db()\n",
    "data = get_taxon_sequence_data(collection)\n",
    "print(len(data))\n"
   ]
  },
  {
   "cell_type": "code",
   "execution_count": 7,
   "metadata": {},
   "outputs": [],
   "source": [
    "class ProteinDataset(Dataset):\n",
    "\n",
    "    def __init__(self, data):\n",
    "\n",
    "        self.data = data\n",
    "\n",
    "    def __len__(self):\n",
    "\n",
    "        return len(self.data)\n",
    "    \n",
    "    def __getitem__(self, index):\n",
    "\n",
    "        item = self.data[index]\n",
    "\n",
    "        # Extract relevant fields\n",
    "        sequence = item['value']  # The protein sequence\n",
    "        length = item['length']   # Length of the sequence\n",
    "        taxon_id = item['taxonId']  # Taxon ID\n",
    "        primary_accession = item['primaryAccession']  # Primary accession\n",
    "\n",
    "        return {\n",
    "            'sequence': sequence,  # Return sequence as a string (you could modify this later)\n",
    "            'length': length,\n",
    "            'taxon_id': taxon_id,\n",
    "            'primary_accession': primary_accession\n",
    "        }\n",
    "    "
   ]
  },
  {
   "cell_type": "code",
   "execution_count": null,
   "metadata": {},
   "outputs": [],
   "source": [
    "dataset = ProteinDataset(data)\n"
   ]
  },
  {
   "cell_type": "code",
   "execution_count": 8,
   "metadata": {},
   "outputs": [],
   "source": [
    "class CustomSampler(Sampler):\n",
    "\n",
    "    def __init__(self, data_source : Dataset, shuffle = True):\n",
    "\n",
    "        self.data_source = data_source\n",
    "        self.indices = list(range(len(data_source)))\n",
    "        self.shuffle = shuffle\n",
    "\n",
    "    def __iter__(self):\n",
    "        \n",
    "        if self.shuffle:\n",
    "                random.shuffle(self.indices)  # Shuffle the indices if needed\n",
    "            \n",
    "        # Return the indices one by one (you could also apply custom logic here)\n",
    "        for idx in self.indices:\n",
    "            yield idx\n",
    "            \n",
    "    def __len__(self):\n",
    "        \"\"\"\n",
    "        Return the number of items in the dataset.\n",
    "        \"\"\"\n",
    "        return len(self.data_source)\n",
    "\n"
   ]
  },
  {
   "cell_type": "code",
   "execution_count": 48,
   "metadata": {},
   "outputs": [
    {
     "name": "stdout",
     "output_type": "stream",
     "text": [
      "{'sequence': ['MAMWRAPSAAGQLLGRALASTAAQTSAGSKKVVGVFYKGGEYADKNPNFVGCVDSALGIRGWLESKGHRYIVTDDKEGINCELEKHIEDAHVLITTPFHPAYITAERIKKAKNLELLLTAGVGSDHIDLPAAAAAGLTVAEITGSNTVSVAEDQLMRILLLLRNFLPGHHQIVNGEWNVAGIAHRTYDLEGKTVGTVGAGRIGRLLLQRLKPFNCNLMYHDRVKIDPELEKEIGAKYEEDLDAMLPKCDVVVINMPLTEKTRGMFNKERIAKMKKGVTIVNNARGAIMDTQAVADACASGHVAGYGGDVWFPQPAPKDHPWRYMPNHAMTPHCSGTTIDGQLRYAAGVKDMLDRYFKGEDFPAQNYIVKAGQLASQYQ', 'MANQVIKCKAAVAWEAGKPLSIEEVEVAPPKAHEVRIKIIATAVCHTDAYTLSGADPEGNYPVILGHEGAGIVESVGEGVTKLKAGDTVIPLYIPQCGECKFCLNPKTNLCQKIRVTQGKGLMPDGTSRFTCKGKTILHYMGTSTFSEYTVVADISVAKIDPLAPLDKVCLLGCGISTGYGAALNAAKVEPGSTCAVFGLGGVGLAVIMGCKMAGAARIIGVDINKDKFARAKEFGASECINPQDFSKPIQEVLIEMTDGGVDYSFECIGNVKVMRAALEACHKGWGISVVVGVAASGEEIATRPFQLVTGRTWKGTAFGGWKSVESVPKLVSEYMSKKIKVDEFVTHSLPFDQINEAFDLMHAGKSIRTVVKL', 'MAAMWRAAARQLVDRAVGSRAAHTSAGSKKIVGVFYQAGEYADKNPNFVGCVEGALGIRDWLESKGHHYIVTDDKEGFNSELEKHIEDMHVLITTPFHPAYVTAEKIKKAKTPELLLTAGIGSDHIDLPAAAAAGLTVARVTGSNTVSVAEDELMRILILLRNFLPGYQQVVKGEWNVAGIAHRAYDLEGKTVGTVGAGRYGRLLLQRLKPFNCNLLYHDRLQINPELEKEIGAKFEEDLDAMLPKCDVVVINTPLTEKTRGMFNKEKIAKMKKGVIIVNNARGAIMDTQAVADACSSGHIAGYGGDVWFPQPAPKDHPWRYMPNHAMTPHISGTTIDAQLRYAAGVKDMLDRYFKGEEFPVENYIVKEGELASQYK', 'MSKGKVLLVLYEGGKHAEEQEKLLGCIENELGIRNFIEEQGYELVTTIDKDPEPTSTVDRELKDAEIVITTPFFPAYISRNRIAEAPNLKLCVTAGVGSDHVDLEAANERKITVTEVTGSNVVSVAEHVMATILVLIRNYNGGHQQAINGEWDIAGVAKNEYDLEDKIISTVGAGRIGYRVLERLVAFNPKKLLYYDYQELPAEAINRLNEASKLFNGRGDIVQRVEKLEDMVAQSDVVTINCPLHKDSRGLFNKKLISHMKDGAYLVNTARGAICVAEDVAEAVKSGKLAGYGGDVWDKQPAPKDHPWRTMDNKDHVGNAMTVHISGTSLDAQKRYAQGVKNILNSYFSKKFDYRPQDIIVQNGSYATRAYGQKK', 'MAMSRVASTAARAITSPSSLVFTRELQASPGPKKIVGVFYKANEYAEMNPNFLGCAENALGIREWLESKGHQYIVTPDKEGPDCELEKHIPDLHVLISTPFHPAYVTAERIKKAKNLQLLLTAGIGSDHVDLKAAAAAGLTVAEVTGSNTVSVAEDELMRILILVRNFLPGHHQVINGEWNVAAIAHRAYDLEGKTVGTVGAGRIGRLLLQRLKPFNCNLLYHDRLKMDSELENQIGAKFEEDLDKMLSKCDIVVINTPLTEKTKGMFDKERIAKLKKGVLIVNNARGAIMDTQAVVDACNSGHIAGYSGDVWYPQPAPKDHPWRYMPNQAMTPHISGTTIDAQLRYAAGTKDMLDRYFKGEDFPAENYIVKDGELAPQYR'], 'length': tensor([378, 374, 377, 376, 381]), 'taxon_id': tensor([ 39947,   9913,   4513, 643680,   4113]), 'primary_accession': ['Q67U69', 'Q3ZC42', 'Q9ZRI8', 'C8ZHD6', 'Q07511']}\n",
      "{'sequence': ['MSGNRGVVYLGSGKVEVQKIDYPKMQDPRGKKIEHGVILKVVSTNICGSDQHMVRGRTTAQVGLVLGHEITGEVIEKGRDVENLQIGDLVSVPFNVACGRCRSCKEMHTGVCLTVNPARAGGAYGYVDMGDWTGGQAEYLLVPYADFNLLKLPDRDKAMEKIRDLTCLSDILPTGYHGAVTAGVGPGSTVYVAGAGPVGLAAAASARLLGAAVVIVGDLNPARLAHAKAQGFEIADLSLDTPLHEQIAALLGEPEVDCAVDAVGFEARGHGHEGAKHEAPATVLNSLMQVTRVAGKIGIPGLYVTEDPGAVDAAAKIGSLSIRFGLGWAKSHSFHTGQTPVMKYNRALMQAIMWDRINIAEVVGVQVISLDDAPRGYGEFDAGVPKKFVIDPHKTFSAA', 'MANEVIKCKAAVAWEAGKPLSIEEIEVAPPKAHEVRIKIIATAVCHTDAYTLSGADPEGCFPVILGHEGAGIVESVGEGVTKLKAGDTVIPLYIPQCGECKFCLNPKTNLCQKIRVTQGKGLMPDGTSRFTCKGKTILHYMGTSTFSEYTVVADISVAKIDPLAPLDKVCLLGCGISTGYGAAVNTAKLEPGSVCAVFGLGGVGLAVIMGCKVAGASRIIGVDINKDKFARAKEFGATECINPQDFSKPIQEVLIEMTDGGVDYSFECIGNVKVMRAALEACHKGWGVSVVVGVAASGEEIATRPFQLVTGRTWKGTAFGGWKSVESVPKLVSEYMSKKIKVDEFVTHNLSFDEINKAFELMHSGKSIRTVVKI', 'MSAATVGKPIKCIAAVAYDAKKPLSVEEITVDAPKAHEVRIKIEYTAVCHTDAYTLSGSDPEGLFPCVLGHEGAGIVESVGDDVITVKPGDHVIALYTAECGKCKFCTSGKTNLCGAVRATQGKGVMPDGTTRFHNAKGEDIYHFMGCSTFSEYTVVADVSVVAIDPKAPLDAACLLGCGVTTGFGAALKTANVQKGDTVAVFGCGTVGLSVIQGAKLRGASKIIAIDINNKKKQYCSQFGATDFVNPKEDLAKDQTIVEKLIEMTDGGLDFTFDCTGNTKIMRDALEACHKGWGQSIIIGVAAAGEEISTRPFQLVTGRVWKGSAFGGIKGRSEMGGLIKDYQKGALKVEEFITHRRPFKEINQAFEDLHNGDCLRTVLKSDEIK', 'MAMRQAAKATIRACSSSSSSGYFARRQFNASSGDSKKIVGVFYKANEYATKNPNFLGCVENALGIRDWLESQGHQYIVTDDKEGPDCELEKHIPDLHVLISTPFHPAYVTAERIKKAKNLKLLLTAGIGSDHIDLQAAAAAGLTVAEVTGSNVVSVAEDELMRILILMRNFVPGYNQVVKGEWNVAGIAYRAYDLEGKTIGTVGAGRIGKLLLQRLKPFGCNLLYHDRLQMAPELEKETGAKFVEDLNEMLPKCDVIVINMPLTEKTRGMFNKELIGKLKKGVLIVNNARGAIMERQAVVDAVESGHIGGYSGDVWDPQPAPKDHPWRYMPNQAMTPHTSGTTIDAQLRYAAGTKDMLERYFKGEDFPTENYIVKDGELAPQYR', 'MSKGKVLLVLYEGGKHAEEQEKLLGCIENELGIRNFIEEQGYELVTTIDKDPEPTSTVDRELKDAEIVITTPFFPAYISRNRIAEAPNLKLCVTAGVGSDHVDLEAANERKITVTEVTGSNVVSVAEHVMATILVLIRNYNGGHQQAINGEWDIAGVAKNEYDLEDKIISTVGAGRIGYRVLERLVAFNPKKLLYYDYQELPAEAINRLNEASKLFNGRGDIVQRVEKLEDMVAQSDVVTINCPLHKDSRGLFNKKLISHMKDGAYLVNTARGAICVAEDVAEAVKSGKLAGYGGDVWDKQPAPKDHPWRTMDNKDHVGNAMTVHISGTSLDAQKRYAQGVKNILNSYFSKKFDYRPQDIIVQNGSYATRAYGQKK'], 'length': tensor([399, 374, 386, 384, 376]), 'taxon_id': tensor([   303,   9606, 559292,   3702, 559292]), 'primary_accession': ['P46154', 'P11766', 'P32771', 'Q9S7E4', 'Q08911']}\n",
      "{'sequence': ['MSSTAGQVINCKAAVAWSAKAPLSIETIQVAPPKAHEVRVKILYTAVCHTDAYTLDGHDPEGLFPVVLGHEGSGIVESVGEGVTGFAPGDHVVPLYVPQCKECEYCKNPKTNLCQKIRISQGNGFMPDGSSRFTCNGKQLFHFMGCSTFSEYTVVADISLCKVNPEAPLEKVSLLGCGISTGYGAVLNTCKVEEGSTVAVWGLGAVGLAVIMGAKAAGAKKIVGIDLIESKFESAKFFGATECINPKSVELPEGKSFQAWLVEQFDGGFDYTFECIGNVHTMRQALEAAHKGWGVSCIIGVAGAGQEIATRPFQLVTGRTWKGTAFGGWKSVESVPRLVDDYMNKKLLIDEFITHRWNIDDINTAFDVLHKGESLRSVLAFEKI', 'MAKVLCVLYDDPVDGYPKTYARDDLPKIDHYPGGQTLPTPKAIDFTPGQLLGSVSGELGLRKYLESNGHTLVVTSDKDGPDSVFERELVDADVVISQPFWPAYLTPERIAKAKNLKLALTAGIGSDHVDLQSAIDRNVTVAEVTYCNSISVAEHVVMMILSLVRNYLPSHEWARKGGWNIADCVSHAYDLEAMHVGTVAAGRIGLAVLRRLAPFDVHLHYTDRHRLPESVEKELNLTWHATREDMYPVCDVVTLNCPLHPETEHMINDETLKLFKRGAYIVNTARGKLCDRDAVARALESGRLAGYAGDVWFPQPAPKDHPWRTMPYNGMTPHISGTTLTAQARYAAGTREILECFFEGRPIRDEYLIVQGGALAGTGAHSYSKGNATGGSEEAAKFKKAV', 'ATQGQVITCKAAVAWEPNKPLTIEDVEVAPPQANEVRIQILFTALCHTDAYTLGGKDPEGLFPCILGHEAAGIVESVGEGVTDVKPGDHVIPSYQAECGECKFCKSPKTNLCGKVRAATGVGVMMADRKSRFSVKGKPIYHFMGTSTFSQYTVVHDVSVAKIHPDAPLDKVCLLGCGVPTGLGAVWNTAKVEPGSIVAIFGLGTVGLAVAEGAKSAGASRIIGIDIDSNKYDTAKNFGVTEFINPKDHEKPIQQVIIDLTDGGVDYSFECLGNVSVMRSALECCHKGWGTSVIVGVAASGQEISTRPFQLVTGRVWKGTAFGGFKSRSQVPWLVEKYLKKEIKVDEYITHNLTLLEINKAFDLLHEGQCLRCVLAVHD', 'MSATEGKVITCKAAVAWEAKKPLVIEDIEVAPPKAHEVRIKITATGVCHTDAFTLSGADPEGLFPVVLGHEGAGIVESVGEGVTNFKAGDHVIALYIPQCNECKFCKSGKTNLCQKIRLTQGAGVMPEGTSRLSCKGQQLFHFMGTSTFAEYTVVADISLTKINEKAPLEKVCLLGCGISTGYGAALNTAKVEAGSTCAVWGLGAVGLAVGLGCKKAGAGKIYGIDINPDKFELAKKFGFTDFVNPKDVADKGSIQNYLIDLTDGGFDYTFECIGNVNTMRSALEATHKGWGTSVVIGVAGAGQEISTRPFQLVVGRVWKGSAFGGWRSVSDVPKLVEDYLKKDLLVDEFITHELPLSQINEAFDLMHKGESIRSIIKY', 'MVKVLAVLYDGGKHGEEVPELLGTIQNELGLRKWLEDQGHTLVTTCDKDGENSTFDKELEDAEIIITTPFHPGYLTAERLARAKKLKLAVTAGIGSDHVDLNAANKTNGGITVAEVTGSNVVSVAEHVLMTILVLVRNFVPAHEQIQEGRWDVAEAAKNEFDLEGKVVGTVGVGRIGERVLRRLKPFDCKELLYYDYQPLSAEKEAEIGCRRVADLEEMLAQCDVVTINCPLHEKTQGLFNKELISKMKKGSWLVNTARGAIVVKEDVAEALKSGHLRGYGGDVWFPQPAPQDHPLRYAKNPFGGGNAMVPHMSGTSLDAQKRYAAGTKAIIESYLSGKHDYRPEDLIVYGGDYATKSYGERERAKAAAAAAKSA'], 'length': tensor([384, 401, 378, 379, 375]), 'taxon_id': tensor([  6239,  33067,   3888,   7227, 367110]), 'primary_accession': ['Q17335', 'P33160', 'P80572', 'P46415', 'Q07103']}\n",
      "{'sequence': ['MKIVLVLYDAGKHAADEEKLYGCTENKLGIANWLKDQGHELITTSDKEGETSELDKHIPDADIIITTPFHPAYITKERLDKAKNLKLVVVAGVGSDHIDLDYINQTGKKISVLEVTGSNVVSVAEHVVMTMLVLVRNFVPAHEQIINHDWEVAAIAKDAYDIEGKTIATIGAGRIGYRVLERLLPFNPKELLYYDYQALPKEAEEKVGARRVENIEELVAQADIVTVNAPLHAGTKGLINKELLSKFKKGAWLVNTARGAICVAEDVAAALESGQLRGYGGDVWFPQPAPKDHPWRDMRNKYGAGNAMTPHYSGTTLDAQTRYAEGTKNILESFFTGKFDYRPQDIILLNGEYVTKAYGKHDKK', 'MVKVLAVLYDGGEHAKQVPGLLGTTENELGLRKWLEDQGHTLVTTSDKDREGSTFDRELEDAEIIITTPFHPGYLTAERLARAKKLKLAVTAGIGSDHVDLDAANKTNGGITVAEVTGSNVVSVAEHVVMTILVLVRNFVPAHEQIEAGRWDVAEVAKDEYDLEGKVVGTVGVGRIGERVLRRLKGFDCKELLYYDYQPLSPEKEKEIGCRRVENLEEMLAQCDVVTINCPLHESTRGLFNKDLISKMKRGSWLVNTARGAIVVKEDVAEALRTGHLRGYGGDVWFPQPAPADHVLRTAKNPFGGGNAMVPHMSGTSLDAQKRYAEGVKRILDSYLSGRFDYRPEDLIVHQGKYATRAYGQREDVKIPGQ', 'MGKVLMVLYDGGSHAKDQPGLLGTTENELGIRKWIEEQGHTLVTTSDKDGENSTFDKELVDAEVIITTPFHPGYLTAERLAKAKNLKLAVTAGIGSDHVDLDAANKTNGGITVAEVTGSNVVSVAEHVVMTILLLVRNFVPAHDQIRNGDWNVAAVAKNEFDLENKVVGTVGVGRIGERVLRRLKPFDCKELLYYDYQPLRPEVEKEIGARRVDSLEEMVSQCDVVTINCPLHEKTRGLFNKELISKMKPGSWLVNTARGAIVVKEDVAEALKSGHLRGYGGDVWFPQPAPKEHPLRYAEHPWGGGNATVPHMSGTSIDAQIRYANGTKAILDSYFSGRFDYQPQDLIVHGGDYATKAYGQREKK', 'MKVVLVLYDAGKHAQDEERLYGCTENALGIRDWLEKQGHDVVVTSDKEGQNSVLEKNISDADVIISTPFHPAYITKERIDKAKKLKLLVVAGVGSDHIDLDYINQSGRDISVLEVTGSNVVSVAEHVVMTMLVLVRNFVPAHEQIISGGWNVAEIAKDSFDIEGKVIATIGAGRIGYRVLERLVAFNPKELLYYDYQSLSKEAEEKVGARRVHDIKELVAQADIVTINCPLHAGSKGLVNAELLKHFKKGAWLVNTARGAICVAEDVAAAVKSGQLRGYGGDVWFPQPAPKDHPWRSMANKYGAGNAMTPHYSGSVIDAQVRYAQGTKNILESFFTQKFDYRPQDIILLNGKYKTKSYGADK', 'MSKGKVLLVLYEGGKHAEEQEKLLGCIENELGIRNFIEEQGYELVTTIDKDPEPTSTVDRELKDAEIVITTPFFPAYISRNRIAEAPNLKLCVTAGVGSDHVDLEAANERKITVTEVTGSNVVSVAEHVMATILVLIRNYNGGHQQAINGEWDIAGVAKNEYDLEDKIISTVGAGRIGYRVLERLVAFNPKKLLYYDYQELPAEAINRLNEASKLFNGRGDIVQRVEKLEDMVAQSDVVTINCPLHKDSRGLFNKKLISHMKDGAYLVNTARGAICVAEDVAEAVKSGKLAGYGGDVWDKQPAPKDHPWRTMDNKDHVGNAMTVHISGTSLHAQKRYAQGVKNILNSYFSKKFDYRPQDIIVQNGSYATRAYGQKK'], 'length': tensor([364, 370, 365, 362, 376]), 'taxon_id': tensor([  5477, 759272, 227321, 870730, 889517]), 'primary_accession': ['O13437', 'G0SGU4', 'Q03134', 'P33677', 'P0CT22']}\n",
      "{'sequence': ['MAMWRAAAGHLLGRALGSRAAHTSAGSKKIVGVFYKGGEYADKNPNFVGCVEGALGIREWLESKGHHYIVTDDKEGLNSELEKHIEDMHVLITTPFHPAYVSAERIKKAKNLELLLTAGIGSDHIDLPAAAAAGLTVAEVTGSNTVSVAEDELMRILILLRNFLPGYQQVVHGEWNVAGIAYRAYDLEGKTVGTVGAGRIGRLLLQRLKPFNCNLLYHDRLKIDPELEKEIGAKYEEDLDAMLPKCDVIVINTPLTEKTRGMFNKERIAKMKKGVIIVNNARGAIMDTQAVADACSSGQVAGYGGDVWFPQPAPKDHPWRYMPNHAMTPHISGTTIDAQLRYAAGVKDMLDRYFKGEDFPVQNYIVKEGQLASQYQ', 'MSKGKVLLVLYEGGKHAEEQEKLLGCIENELGIRNFIEEQGYELVTTIDKDPEPTSTVDRELKDAEIVITTPFFPAYISRNRIAEAPNLKLCVTAGVGSDHVDLEAANERKITVTEVTGSNVVSVAEHVMATILVLIRNYNGGHQQAINGEWDIAGVAKNEYDLEDKIISTVGAGRIGYRVLERLVAFNPKKLLYYDYQELPAEAINRLNEASKLFNGRGDIVQRVEKLEDMVAQSDVVTINCPLHKDSRGLFNKKLISHMKDGAYLVNTARGAICVAEDVAEAVKSGKLAGYGGDVWDKQPAPKDHPWRTMDNKDHVGNAMTVHISGTSLDAQKRYAQGVKNILNSYFSKKFDYRPQDIIVQNGSYATRAYGQKK', 'MSKGKVLLVLYEGGKHAEEQEKLLGCIENELGIRNFIEEQGYELVTTIDKDPEPTSTVDRELKDAEIVITTPFFPAYISRNRIAEAPNLKLCVTAGVGSDHVDLEAANERKITVTEVTGSNVVSVAEHVMATILVLIRNYNGGHQQAINGEWDIAGVAKNEYDLEDKIISTVGAGRIGYRVLERLVAFNPKKLLYYDYQELPAEAINRLNEASKLFNGRGDIVQRVEKLEDMVAQSDVVTINCPLHKDSRGLFNKKLISHMKDGAYLVNTARGAICVAEDVAEAVKSGKLAGYGGDVWDKQPAPKDHPWRTMDNKDHVGNAMTVHISGTSLDAQKRYAQGVKNILNSYFSKKFDYRPQDIIVQNGSYATRAYGQKK', 'MKSRAAVAFAPGKPLEIVEIDVAPPKKGEVLIKVTHTGVCHTDAFTLSGDDPEGVFPVVLGHEGAGVVVEVGEGVTSVKPGDHVIPLYTAECGECEFCRSGKTNLCVAVRETQGKGLMPDGTTRFSYNGQPLYHYMGCSTFSEYTVVAEVSLAKINPEANHEHVCLLGCGVTTGIGAVHNTAKVQPGDSVAVFGLGAIGLAVVQGARQAKAGRIIAIDTNPKKFDLARRFGATDCINPNDYDKPIKDVLLDINKWGIDHTFECIGNVNVMRAALESAHRGWGQSVIIGVAVAGQEISTRPFQLVTGRVWKGSAFGGVKGRSQLPGMVEDAMKGDIDLEPFVTHTMSLDEINDAFDLMHEGKSIRTVIRY'], 'length': tensor([376, 376, 376, 369]), 'taxon_id': tensor([ 39947, 307796, 889517,  83333]), 'primary_accession': ['Q9SXP2', 'A6ZN46', 'N1P3Y5', 'P25437']}\n"
     ]
    }
   ],
   "source": [
    "sampler = CustomSampler(dataset, shuffle=True)\n",
    "dataloader = DataLoader(dataset, batch_size=5, sampler=sampler)\n",
    "\n",
    "# Iterate over the DataLoader\n",
    "for batch in dataloader:\n",
    "    print(batch)  "
   ]
  },
  {
   "cell_type": "code",
   "execution_count": 9,
   "metadata": {},
   "outputs": [],
   "source": [
    "class TaxonIdSampler(Sampler):\n",
    "    def __init__(self, dataset: Dataset, batch_size, length_bin_size=5, shuffle=True):\n",
    "        self.dataset = dataset\n",
    "        self.batch_size = batch_size\n",
    "        self.length_bin_size = length_bin_size\n",
    "        self.shuffle = shuffle\n",
    "\n",
    "        # Group sample indices by taxonId\n",
    "        self.taxon_length_bins = defaultdict(lambda: defaultdict(list))\n",
    "\n",
    "        for idx, sample in enumerate(dataset):\n",
    "            taxon_id = sample['taxon_id']\n",
    "            sequence_length = sample['length']\n",
    "            length_bin = (sequence_length // length_bin_size) * length_bin_size  # integer division to know in which bucket the sequence is\n",
    "\n",
    "            # Ensure that length_bin is properly initialized\n",
    "            self.taxon_length_bins[taxon_id][length_bin].append(idx)\n",
    "\n",
    "        '''\n",
    "        structure of self.taxon_length_bins:\n",
    "\n",
    "        {\n",
    "            taxon_id_1: {\n",
    "                length_bin_1: [sample_idx_1, sample_idx_2, ...],\n",
    "                length_bin_2: [sample_idx_3, sample_idx_4, ...],\n",
    "                ...\n",
    "            },\n",
    "            taxon_id_2: {\n",
    "                length_bin_3: [sample_idx_5, sample_idx_6, ...],\n",
    "                ...\n",
    "            },\n",
    "        }\n",
    "        '''\n",
    "        \n",
    "        # Prepare batches based on taxon groups\n",
    "        self.batches = []\n",
    "\n",
    "        for taxon, length_bins in self.taxon_length_bins.items():\n",
    "            for length_bin, indices in length_bins.items():\n",
    "                if self.shuffle:\n",
    "                    random.shuffle(indices)  # Shuffle the indices if needed\n",
    "                for i in range(0, len(indices), batch_size):\n",
    "                    self.batches.append(indices[i:i + batch_size])\n",
    "\n",
    "        # Shuffle the batches if needed\n",
    "        if self.shuffle:\n",
    "            random.shuffle(self.batches)\n",
    "\n",
    "    def __iter__(self):\n",
    "        for batch in self.batches:\n",
    "            yield batch\n",
    "\n",
    "    def __len__(self):\n",
    "        return len(self.batches)"
   ]
  },
  {
   "cell_type": "code",
   "execution_count": 10,
   "metadata": {},
   "outputs": [],
   "source": [
    "def dict_collate_fn(batch):\n",
    "    # Return the batch as-is (a list of dictionaries)\n",
    "    return batch"
   ]
  },
  {
   "cell_type": "code",
   "execution_count": 61,
   "metadata": {},
   "outputs": [
    {
     "name": "stdout",
     "output_type": "stream",
     "text": [
      "[{'sequence': 'MKVVLVLYDAGKHAQDEERLYGCTENALGIRDWLEKQGHDVVVTSDKEGQNSVLEKNISDADVIISTPFHPAYITKERIDKAKKLKLLVVAGVGSDHIDLDYINQSGRDISVLEVTGSNVVSVAEHVVMTMLVLVRNFVPAHEQIISGGWNVAEIAKDSFDIEGKVIATIGAGRIGYRVLERLVAFNPKELLYYDYQSLSKEAEEKVGARRVHDIKELVAQADIVTINCPLHAGSKGLVNAELLKHFKKGAWLVNTARGAICVAEDVAAAVKSGQLRGYGGDVWFPQPAPKDHPWRSMANKYGAGNAMTPHYSGSVIDAQVRYAQGTKNILESFFTQKFDYRPQDIILLNGKYKTKSYGADK', 'length': 362, 'taxon_id': 870730, 'primary_accession': 'P33677'}]\n",
      "[{'sequence': 'MSKGKVLLVLYEGGKHAEEQEKLLGCIENELGIRNFIEEQGYELVTTIDKDPEPTSTVDRELKDAEIVITTPFFPAYISRNRIAEAPNLKLCVTAGVGSDHVDLEAANERKITVTEVTGSNVVSVAEHVMATILVLIRNYNGGHQQAINGEWDIAGVAKNEYDLEDKIISTVGAGRIGYRVLERLVAFNPKKLLYYDYQELPAEAINRLNEASKLFNGRGDIVQRVEKLEDMVAQSDVVTINCPLHKDSRGLFNKKLISHMKDGAYLVNTARGAICVAEDVAEAVKSGKLAGYGGDVWDKQPAPKDHPWRTMDNKDHVGNAMTVHISGTSLDAQKRYAQGVKNILNSYFSKKFDYRPQDIIVQNGSYATRAYGQKK', 'length': 376, 'taxon_id': 643680, 'primary_accession': 'C8ZHD6'}]\n",
      "[{'sequence': 'MSSTAGQVINCKAAVAWSAKAPLSIETIQVAPPKAHEVRVKILYTAVCHTDAYTLDGHDPEGLFPVVLGHEGSGIVESVGEGVTGFAPGDHVVPLYVPQCKECEYCKNPKTNLCQKIRISQGNGFMPDGSSRFTCNGKQLFHFMGCSTFSEYTVVADISLCKVNPEAPLEKVSLLGCGISTGYGAVLNTCKVEEGSTVAVWGLGAVGLAVIMGAKAAGAKKIVGIDLIESKFESAKFFGATECINPKSVELPEGKSFQAWLVEQFDGGFDYTFECIGNVHTMRQALEAAHKGWGVSCIIGVAGAGQEIATRPFQLVTGRTWKGTAFGGWKSVESVPRLVDDYMNKKLLIDEFITHRWNIDDINTAFDVLHKGESLRSVLAFEKI', 'length': 384, 'taxon_id': 6239, 'primary_accession': 'Q17335'}]\n",
      "[{'sequence': 'ATQGQVITCKAAVAWEPNKPLTIEDVEVAPPQANEVRIQILFTALCHTDAYTLGGKDPEGLFPCILGHEAAGIVESVGEGVTDVKPGDHVIPSYQAECGECKFCKSPKTNLCGKVRAATGVGVMMADRKSRFSVKGKPIYHFMGTSTFSQYTVVHDVSVAKIHPDAPLDKVCLLGCGVPTGLGAVWNTAKVEPGSIVAIFGLGTVGLAVAEGAKSAGASRIIGIDIDSNKYDTAKNFGVTEFINPKDHEKPIQQVIIDLTDGGVDYSFECLGNVSVMRSALECCHKGWGTSVIVGVAASGQEISTRPFQLVTGRVWKGTAFGGFKSRSQVPWLVEKYLKKEIKVDEYITHNLTLLEINKAFDLLHEGQCLRCVLAVHD', 'length': 378, 'taxon_id': 3888, 'primary_accession': 'P80572'}]\n",
      "[{'sequence': 'MAMSRVASTAARAITSPSSLVFTRELQASPGPKKIVGVFYKANEYAEMNPNFLGCAENALGIREWLESKGHQYIVTPDKEGPDCELEKHIPDLHVLISTPFHPAYVTAERIKKAKNLQLLLTAGIGSDHVDLKAAAAAGLTVAEVTGSNTVSVAEDELMRILILVRNFLPGHHQVINGEWNVAAIAHRAYDLEGKTVGTVGAGRIGRLLLQRLKPFNCNLLYHDRLKMDSELENQIGAKFEEDLDKMLSKCDIVVINTPLTEKTKGMFDKERIAKLKKGVLIVNNARGAIMDTQAVVDACNSGHIAGYSGDVWYPQPAPKDHPWRYMPNQAMTPHISGTTIDAQLRYAAGTKDMLDRYFKGEDFPAENYIVKDGELAPQYR', 'length': 381, 'taxon_id': 4113, 'primary_accession': 'Q07511'}]\n",
      "[{'sequence': 'MANEVIKCKAAVAWEAGKPLSIEEIEVAPPKAHEVRIKIIATAVCHTDAYTLSGADPEGCFPVILGHEGAGIVESVGEGVTKLKAGDTVIPLYIPQCGECKFCLNPKTNLCQKIRVTQGKGLMPDGTSRFTCKGKTILHYMGTSTFSEYTVVADISVAKIDPLAPLDKVCLLGCGISTGYGAAVNTAKLEPGSVCAVFGLGGVGLAVIMGCKVAGASRIIGVDINKDKFARAKEFGATECINPQDFSKPIQEVLIEMTDGGVDYSFECIGNVKVMRAALEACHKGWGVSVVVGVAASGEEIATRPFQLVTGRTWKGTAFGGWKSVESVPKLVSEYMSKKIKVDEFVTHNLSFDEINKAFELMHSGKSIRTVVKI', 'length': 374, 'taxon_id': 9606, 'primary_accession': 'P11766'}]\n",
      "[{'sequence': 'MVKVLAVLYDGGEHAKQVPGLLGTTENELGLRKWLEDQGHTLVTTSDKDREGSTFDRELEDAEIIITTPFHPGYLTAERLARAKKLKLAVTAGIGSDHVDLDAANKTNGGITVAEVTGSNVVSVAEHVVMTILVLVRNFVPAHEQIEAGRWDVAEVAKDEYDLEGKVVGTVGVGRIGERVLRRLKGFDCKELLYYDYQPLSPEKEKEIGCRRVENLEEMLAQCDVVTINCPLHESTRGLFNKDLISKMKRGSWLVNTARGAIVVKEDVAEALRTGHLRGYGGDVWFPQPAPADHVLRTAKNPFGGGNAMVPHMSGTSLDAQKRYAEGVKRILDSYLSGRFDYRPEDLIVHQGKYATRAYGQREDVKIPGQ', 'length': 370, 'taxon_id': 759272, 'primary_accession': 'G0SGU4'}]\n",
      "[{'sequence': 'MSKGKVLLVLYEGGKHAEEQEKLLGCIENELGIRNFIEEQGYELVTTIDKDPEPTSTVDRELKDAEIVITTPFFPAYISRNRIAEAPNLKLCVTAGVGSDHVDLEAANERKITVTEVTGSNVVSVAEHVMATILVLIRNYNGGHQQAINGEWDIAGVAKNEYDLEDKIISTVGAGRIGYRVLERLVAFNPKKLLYYDYQELPAEAINRLNEASKLFNGRGDIVQRVEKLEDMVAQSDVVTINCPLHKDSRGLFNKKLISHMKDGAYLVNTARGAICVAEDVAEAVKSGKLAGYGGDVWDKQPAPKDHPWRTMDNKDHVGNAMTVHISGTSLHAQKRYAQGVKNILNSYFSKKFDYRPQDIIVQNGSYATRAYGQKK', 'length': 376, 'taxon_id': 889517, 'primary_accession': 'P0CT22'}, {'sequence': 'MSKGKVLLVLYEGGKHAEEQEKLLGCIENELGIRNFIEEQGYELVTTIDKDPEPTSTVDRELKDAEIVITTPFFPAYISRNRIAEAPNLKLCVTAGVGSDHVDLEAANERKITVTEVTGSNVVSVAEHVMATILVLIRNYNGGHQQAINGEWDIAGVAKNEYDLEDKIISTVGAGRIGYRVLERLVAFNPKKLLYYDYQELPAEAINRLNEASKLFNGRGDIVQRVEKLEDMVAQSDVVTINCPLHKDSRGLFNKKLISHMKDGAYLVNTARGAICVAEDVAEAVKSGKLAGYGGDVWDKQPAPKDHPWRTMDNKDHVGNAMTVHISGTSLDAQKRYAQGVKNILNSYFSKKFDYRPQDIIVQNGSYATRAYGQKK', 'length': 376, 'taxon_id': 889517, 'primary_accession': 'N1P3Y5'}]\n",
      "[{'sequence': 'MSKGKVLLVLYEGGKHAEEQEKLLGCIENELGIRNFIEEQGYELVTTIDKDPEPTSTVDRELKDAEIVITTPFFPAYISRNRIAEAPNLKLCVTAGVGSDHVDLEAANERKITVTEVTGSNVVSVAEHVMATILVLIRNYNGGHQQAINGEWDIAGVAKNEYDLEDKIISTVGAGRIGYRVLERLVAFNPKKLLYYDYQELPAEAINRLNEASKLFNGRGDIVQRVEKLEDMVAQSDVVTINCPLHKDSRGLFNKKLISHMKDGAYLVNTARGAICVAEDVAEAVKSGKLAGYGGDVWDKQPAPKDHPWRTMDNKDHVGNAMTVHISGTSLDAQKRYAQGVKNILNSYFSKKFDYRPQDIIVQNGSYATRAYGQKK', 'length': 376, 'taxon_id': 559292, 'primary_accession': 'Q08911'}]\n",
      "[{'sequence': 'MANQVIKCKAAVAWEAGKPLSIEEVEVAPPKAHEVRIKIIATAVCHTDAYTLSGADPEGNYPVILGHEGAGIVESVGEGVTKLKAGDTVIPLYIPQCGECKFCLNPKTNLCQKIRVTQGKGLMPDGTSRFTCKGKTILHYMGTSTFSEYTVVADISVAKIDPLAPLDKVCLLGCGISTGYGAALNAAKVEPGSTCAVFGLGGVGLAVIMGCKMAGAARIIGVDINKDKFARAKEFGASECINPQDFSKPIQEVLIEMTDGGVDYSFECIGNVKVMRAALEACHKGWGISVVVGVAASGEEIATRPFQLVTGRTWKGTAFGGWKSVESVPKLVSEYMSKKIKVDEFVTHSLPFDQINEAFDLMHAGKSIRTVVKL', 'length': 374, 'taxon_id': 9913, 'primary_accession': 'Q3ZC42'}]\n",
      "[{'sequence': 'MSATEGKVITCKAAVAWEAKKPLVIEDIEVAPPKAHEVRIKITATGVCHTDAFTLSGADPEGLFPVVLGHEGAGIVESVGEGVTNFKAGDHVIALYIPQCNECKFCKSGKTNLCQKIRLTQGAGVMPEGTSRLSCKGQQLFHFMGTSTFAEYTVVADISLTKINEKAPLEKVCLLGCGISTGYGAALNTAKVEAGSTCAVWGLGAVGLAVGLGCKKAGAGKIYGIDINPDKFELAKKFGFTDFVNPKDVADKGSIQNYLIDLTDGGFDYTFECIGNVNTMRSALEATHKGWGTSVVIGVAGAGQEISTRPFQLVVGRVWKGSAFGGWRSVSDVPKLVEDYLKKDLLVDEFITHELPLSQINEAFDLMHKGESIRSIIKY', 'length': 379, 'taxon_id': 7227, 'primary_accession': 'P46415'}]\n",
      "[{'sequence': 'MSGNRGVVYLGSGKVEVQKIDYPKMQDPRGKKIEHGVILKVVSTNICGSDQHMVRGRTTAQVGLVLGHEITGEVIEKGRDVENLQIGDLVSVPFNVACGRCRSCKEMHTGVCLTVNPARAGGAYGYVDMGDWTGGQAEYLLVPYADFNLLKLPDRDKAMEKIRDLTCLSDILPTGYHGAVTAGVGPGSTVYVAGAGPVGLAAAASARLLGAAVVIVGDLNPARLAHAKAQGFEIADLSLDTPLHEQIAALLGEPEVDCAVDAVGFEARGHGHEGAKHEAPATVLNSLMQVTRVAGKIGIPGLYVTEDPGAVDAAAKIGSLSIRFGLGWAKSHSFHTGQTPVMKYNRALMQAIMWDRINIAEVVGVQVISLDDAPRGYGEFDAGVPKKFVIDPHKTFSAA', 'length': 399, 'taxon_id': 303, 'primary_accession': 'P46154'}]\n",
      "[{'sequence': 'MKSRAAVAFAPGKPLEIVEIDVAPPKKGEVLIKVTHTGVCHTDAFTLSGDDPEGVFPVVLGHEGAGVVVEVGEGVTSVKPGDHVIPLYTAECGECEFCRSGKTNLCVAVRETQGKGLMPDGTTRFSYNGQPLYHYMGCSTFSEYTVVAEVSLAKINPEANHEHVCLLGCGVTTGIGAVHNTAKVQPGDSVAVFGLGAIGLAVVQGARQAKAGRIIAIDTNPKKFDLARRFGATDCINPNDYDKPIKDVLLDINKWGIDHTFECIGNVNVMRAALESAHRGWGQSVIIGVAVAGQEISTRPFQLVTGRVWKGSAFGGVKGRSQLPGMVEDAMKGDIDLEPFVTHTMSLDEINDAFDLMHEGKSIRTVIRY', 'length': 369, 'taxon_id': 83333, 'primary_accession': 'P25437'}]\n",
      "[{'sequence': 'MKIVLVLYDAGKHAADEEKLYGCTENKLGIANWLKDQGHELITTSDKEGETSELDKHIPDADIIITTPFHPAYITKERLDKAKNLKLVVVAGVGSDHIDLDYINQTGKKISVLEVTGSNVVSVAEHVVMTMLVLVRNFVPAHEQIINHDWEVAAIAKDAYDIEGKTIATIGAGRIGYRVLERLLPFNPKELLYYDYQALPKEAEEKVGARRVENIEELVAQADIVTVNAPLHAGTKGLINKELLSKFKKGAWLVNTARGAICVAEDVAAALESGQLRGYGGDVWFPQPAPKDHPWRDMRNKYGAGNAMTPHYSGTTLDAQTRYAEGTKNILESFFTGKFDYRPQDIILLNGEYVTKAYGKHDKK', 'length': 364, 'taxon_id': 5477, 'primary_accession': 'O13437'}]\n",
      "[{'sequence': 'MAAMWRAAARQLVDRAVGSRAAHTSAGSKKIVGVFYQAGEYADKNPNFVGCVEGALGIRDWLESKGHHYIVTDDKEGFNSELEKHIEDMHVLITTPFHPAYVTAEKIKKAKTPELLLTAGIGSDHIDLPAAAAAGLTVARVTGSNTVSVAEDELMRILILLRNFLPGYQQVVKGEWNVAGIAHRAYDLEGKTVGTVGAGRYGRLLLQRLKPFNCNLLYHDRLQINPELEKEIGAKFEEDLDAMLPKCDVVVINTPLTEKTRGMFNKEKIAKMKKGVIIVNNARGAIMDTQAVADACSSGHIAGYGGDVWFPQPAPKDHPWRYMPNHAMTPHISGTTIDAQLRYAAGVKDMLDRYFKGEEFPVENYIVKEGELASQYK', 'length': 377, 'taxon_id': 4513, 'primary_accession': 'Q9ZRI8'}]\n",
      "[{'sequence': 'MVKVLAVLYDGGKHGEEVPELLGTIQNELGLRKWLEDQGHTLVTTCDKDGENSTFDKELEDAEIIITTPFHPGYLTAERLARAKKLKLAVTAGIGSDHVDLNAANKTNGGITVAEVTGSNVVSVAEHVLMTILVLVRNFVPAHEQIQEGRWDVAEAAKNEFDLEGKVVGTVGVGRIGERVLRRLKPFDCKELLYYDYQPLSAEKEAEIGCRRVADLEEMLAQCDVVTINCPLHEKTQGLFNKELISKMKKGSWLVNTARGAIVVKEDVAEALKSGHLRGYGGDVWFPQPAPQDHPLRYAKNPFGGGNAMVPHMSGTSLDAQKRYAAGTKAIIESYLSGKHDYRPEDLIVYGGDYATKSYGERERAKAAAAAAKSA', 'length': 375, 'taxon_id': 367110, 'primary_accession': 'Q07103'}]\n",
      "[{'sequence': 'MSKGKVLLVLYEGGKHAEEQEKLLGCIENELGIRNFIEEQGYELVTTIDKDPEPTSTVDRELKDAEIVITTPFFPAYISRNRIAEAPNLKLCVTAGVGSDHVDLEAANERKITVTEVTGSNVVSVAEHVMATILVLIRNYNGGHQQAINGEWDIAGVAKNEYDLEDKIISTVGAGRIGYRVLERLVAFNPKKLLYYDYQELPAEAINRLNEASKLFNGRGDIVQRVEKLEDMVAQSDVVTINCPLHKDSRGLFNKKLISHMKDGAYLVNTARGAICVAEDVAEAVKSGKLAGYGGDVWDKQPAPKDHPWRTMDNKDHVGNAMTVHISGTSLDAQKRYAQGVKNILNSYFSKKFDYRPQDIIVQNGSYATRAYGQKK', 'length': 376, 'taxon_id': 307796, 'primary_accession': 'A6ZN46'}]\n",
      "[{'sequence': 'MAMWRAAAGHLLGRALGSRAAHTSAGSKKIVGVFYKGGEYADKNPNFVGCVEGALGIREWLESKGHHYIVTDDKEGLNSELEKHIEDMHVLITTPFHPAYVSAERIKKAKNLELLLTAGIGSDHIDLPAAAAAGLTVAEVTGSNTVSVAEDELMRILILLRNFLPGYQQVVHGEWNVAGIAYRAYDLEGKTVGTVGAGRIGRLLLQRLKPFNCNLLYHDRLKIDPELEKEIGAKYEEDLDAMLPKCDVIVINTPLTEKTRGMFNKERIAKMKKGVIIVNNARGAIMDTQAVADACSSGQVAGYGGDVWFPQPAPKDHPWRYMPNHAMTPHISGTTIDAQLRYAAGVKDMLDRYFKGEDFPVQNYIVKEGQLASQYQ', 'length': 376, 'taxon_id': 39947, 'primary_accession': 'Q9SXP2'}, {'sequence': 'MAMWRAPSAAGQLLGRALASTAAQTSAGSKKVVGVFYKGGEYADKNPNFVGCVDSALGIRGWLESKGHRYIVTDDKEGINCELEKHIEDAHVLITTPFHPAYITAERIKKAKNLELLLTAGVGSDHIDLPAAAAAGLTVAEITGSNTVSVAEDQLMRILLLLRNFLPGHHQIVNGEWNVAGIAHRTYDLEGKTVGTVGAGRIGRLLLQRLKPFNCNLMYHDRVKIDPELEKEIGAKYEEDLDAMLPKCDVVVINMPLTEKTRGMFNKERIAKMKKGVTIVNNARGAIMDTQAVADACASGHVAGYGGDVWFPQPAPKDHPWRYMPNHAMTPHCSGTTIDGQLRYAAGVKDMLDRYFKGEDFPAQNYIVKAGQLASQYQ', 'length': 378, 'taxon_id': 39947, 'primary_accession': 'Q67U69'}]\n",
      "[{'sequence': 'MGKVLMVLYDGGSHAKDQPGLLGTTENELGIRKWIEEQGHTLVTTSDKDGENSTFDKELVDAEVIITTPFHPGYLTAERLAKAKNLKLAVTAGIGSDHVDLDAANKTNGGITVAEVTGSNVVSVAEHVVMTILLLVRNFVPAHDQIRNGDWNVAAVAKNEFDLENKVVGTVGVGRIGERVLRRLKPFDCKELLYYDYQPLRPEVEKEIGARRVDSLEEMVSQCDVVTINCPLHEKTRGLFNKELISKMKPGSWLVNTARGAIVVKEDVAEALKSGHLRGYGGDVWFPQPAPKEHPLRYAEHPWGGGNATVPHMSGTSIDAQIRYANGTKAILDSYFSGRFDYQPQDLIVHGGDYATKAYGQREKK', 'length': 365, 'taxon_id': 227321, 'primary_accession': 'Q03134'}]\n",
      "[{'sequence': 'MSAATVGKPIKCIAAVAYDAKKPLSVEEITVDAPKAHEVRIKIEYTAVCHTDAYTLSGSDPEGLFPCVLGHEGAGIVESVGDDVITVKPGDHVIALYTAECGKCKFCTSGKTNLCGAVRATQGKGVMPDGTTRFHNAKGEDIYHFMGCSTFSEYTVVADVSVVAIDPKAPLDAACLLGCGVTTGFGAALKTANVQKGDTVAVFGCGTVGLSVIQGAKLRGASKIIAIDINNKKKQYCSQFGATDFVNPKEDLAKDQTIVEKLIEMTDGGLDFTFDCTGNTKIMRDALEACHKGWGQSIIIGVAAAGEEISTRPFQLVTGRVWKGSAFGGIKGRSEMGGLIKDYQKGALKVEEFITHRRPFKEINQAFEDLHNGDCLRTVLKSDEIK', 'length': 386, 'taxon_id': 559292, 'primary_accession': 'P32771'}]\n",
      "[{'sequence': 'MAKVLCVLYDDPVDGYPKTYARDDLPKIDHYPGGQTLPTPKAIDFTPGQLLGSVSGELGLRKYLESNGHTLVVTSDKDGPDSVFERELVDADVVISQPFWPAYLTPERIAKAKNLKLALTAGIGSDHVDLQSAIDRNVTVAEVTYCNSISVAEHVVMMILSLVRNYLPSHEWARKGGWNIADCVSHAYDLEAMHVGTVAAGRIGLAVLRRLAPFDVHLHYTDRHRLPESVEKELNLTWHATREDMYPVCDVVTLNCPLHPETEHMINDETLKLFKRGAYIVNTARGKLCDRDAVARALESGRLAGYAGDVWFPQPAPKDHPWRTMPYNGMTPHISGTTLTAQARYAAGTREILECFFEGRPIRDEYLIVQGGALAGTGAHSYSKGNATGGSEEAAKFKKAV', 'length': 401, 'taxon_id': 33067, 'primary_accession': 'P33160'}]\n",
      "[{'sequence': 'MAMRQAAKATIRACSSSSSSGYFARRQFNASSGDSKKIVGVFYKANEYATKNPNFLGCVENALGIRDWLESQGHQYIVTDDKEGPDCELEKHIPDLHVLISTPFHPAYVTAERIKKAKNLKLLLTAGIGSDHIDLQAAAAAGLTVAEVTGSNVVSVAEDELMRILILMRNFVPGYNQVVKGEWNVAGIAYRAYDLEGKTIGTVGAGRIGKLLLQRLKPFGCNLLYHDRLQMAPELEKETGAKFVEDLNEMLPKCDVIVINMPLTEKTRGMFNKELIGKLKKGVLIVNNARGAIMERQAVVDAVESGHIGGYSGDVWDPQPAPKDHPWRYMPNQAMTPHTSGTTIDAQLRYAAGTKDMLERYFKGEDFPTENYIVKDGELAPQYR', 'length': 384, 'taxon_id': 3702, 'primary_accession': 'Q9S7E4'}]\n"
     ]
    }
   ],
   "source": [
    "# Initialize the TaxonBatchSampler with your dataset\n",
    "batch_size = 3\n",
    "sampler = TaxonIdSampler(dataset, batch_size=batch_size, shuffle=True)\n",
    "\n",
    "dataloader = DataLoader(dataset, batch_sampler=sampler, collate_fn=dict_collate_fn)\n",
    "\n",
    "# Iterate over the DataLoader\n",
    "for batch in dataloader:\n",
    "    print(batch)  # Each batch will contain samples with the same taxonId"
   ]
  },
  {
   "cell_type": "code",
   "execution_count": null,
   "metadata": {},
   "outputs": [],
   "source": [
    "def get_seq_rep(results, batch_lens, rep_layer: int=33):\n",
    "    \"\"\"\n",
    "    Get sequence representations from esm_compute\n",
    "    \"\"\"\n",
    "    token_representations = results[\"representations\"][rep_layer]\n",
    " \n",
    "    # Generate per-sequence representations via averaging\n",
    "    sequence_representations = []\n",
    "    for i, tokens_len in enumerate(batch_lens):\n",
    "        sequence_representations.append(token_representations[i, 1: tokens_len - 1].mean(0))\n",
    " \n",
    "    return sequence_representations\n",
    " \n",
    " \n",
    "def get_logits(results):\n",
    "    \"\"\"\n",
    "    Get logits from esm_compute\n",
    "    \"\"\"\n",
    "    logits = results[\"logits\"]\n",
    "    return logits"
   ]
  },
  {
   "cell_type": "code",
   "execution_count": null,
   "metadata": {},
   "outputs": [],
   "source": [
    "seqs = [\"AGAVCTGAKLI\", \"AGHRFLIKLKI\"]\n",
    "results, batch_lens, batch_labels, alphabet = esm_compute(seqs)"
   ]
  },
  {
   "cell_type": "markdown",
   "metadata": {},
   "source": [
    "### First logits computation"
   ]
  },
  {
   "cell_type": "code",
   "execution_count": 63,
   "metadata": {},
   "outputs": [],
   "source": [
    "LOGITS = []\n",
    "REPRESENTATIOS = []\n",
    "for batch in dataloader:\n",
    "    try:\n",
    "        sequences = [item['sequence'] for item in batch]\n",
    "        names = [item['primary_accession'] for item in batch]\n",
    "\n",
    "        results, batch_lens, batch_labels, alphabet = esm_compute(seqs = sequences, names = names )\n",
    "        \n",
    "        sequence_representations = get_seq_rep(results, batch_lens)\n",
    "\n",
    "        for i, x in enumerate(sequence_representations):\n",
    "            torch.save(x, f\"demo_results/{names[i]}.pt\")\n",
    "\n",
    "    except:\n",
    "        pass\n",
    "    # Print or process the data\n",
    "    # print(\"Sequences:\", seqs)\n",
    "    # print(\"Names:\", names)"
   ]
  },
  {
   "cell_type": "code",
   "execution_count": null,
   "metadata": {},
   "outputs": [
    {
     "name": "stderr",
     "output_type": "stream",
     "text": [
      "/var/folders/mf/wh6pc4zs5bdf1rhq4yhjvvf00000gp/T/ipykernel_59713/1399910260.py:1: FutureWarning: You are using `torch.load` with `weights_only=False` (the current default value), which uses the default pickle module implicitly. It is possible to construct malicious pickle data which will execute arbitrary code during unpickling (See https://github.com/pytorch/pytorch/blob/main/SECURITY.md#untrusted-models for more details). In a future release, the default value for `weights_only` will be flipped to `True`. This limits the functions that could be executed during unpickling. Arbitrary objects will no longer be allowed to be loaded via this mode unless they are explicitly allowlisted by the user via `torch.serialization.add_safe_globals`. We recommend you start setting `weights_only=True` for any use case where you don't have full control of the loaded file. Please open an issue on GitHub for any issues related to this experimental feature.\n",
      "  tensors = [torch.load('reps/'+f) for f in os.listdir('reps') if f.endswith('.pt')]\n"
     ]
    }
   ],
   "source": [
    "tensors = [torch.load('reps/'+f) for f in os.listdir('reps') if f.endswith('.pt')]"
   ]
  },
  {
   "cell_type": "markdown",
   "metadata": {},
   "source": [
    "### Convert xml to jason for importing to mongoDB"
   ]
  },
  {
   "cell_type": "code",
   "execution_count": null,
   "metadata": {},
   "outputs": [],
   "source": [
    "import xmltodict\n",
    "import json"
   ]
  },
  {
   "cell_type": "code",
   "execution_count": null,
   "metadata": {},
   "outputs": [],
   "source": [
    "with open(\"../data/raw/test.xml\") as xml_file:\n",
    "    data_dict = xmltodict.parse(xml_file.read())\n",
    "\n"
   ]
  },
  {
   "cell_type": "code",
   "execution_count": null,
   "metadata": {},
   "outputs": [],
   "source": [
    "json_data = json.dumps(data_dict)\n",
    "\n",
    "with open(\"../data/processed/test.json\", \"w\") as json_file:\n",
    "        json_file.write(json_data)"
   ]
  },
  {
   "cell_type": "markdown",
   "metadata": {},
   "source": [
    "### Connection with database"
   ]
  },
  {
   "cell_type": "code",
   "execution_count": 25,
   "metadata": {},
   "outputs": [],
   "source": [
    "def import_json_2_db():\n",
    "\n",
    "    # Connect to MongoDB with connection string\n",
    "    string_path = \"mongodb://127.0.0.1:27017/?directConnection=true&serverSelectionTimeoutMS=2000&appName=mongosh+2.3.3\"\n",
    "    \n",
    "    client = MongoClient(string_path)\n",
    "\n",
    "    db = client['proteins']\n",
    "\n",
    "    collection = db['uniref_test']\n",
    "\n",
    "    with open('../data/processed/uniref100_test.json') as file:\n",
    "        protein_data = json.load(file)\n",
    "        print(protein_data)\n",
    "\n",
    "    # Insert data into database\n",
    "    \n",
    "    collection.insert_many(protein_data['results'])\n",
    "    \n"
   ]
  },
  {
   "cell_type": "code",
   "execution_count": 57,
   "metadata": {},
   "outputs": [
    {
     "data": {
      "text/plain": [
       "True"
      ]
     },
     "execution_count": 57,
     "metadata": {},
     "output_type": "execute_result"
    }
   ],
   "source": [
    "torch.cuda.is_available()"
   ]
  },
  {
   "cell_type": "code",
   "execution_count": 36,
   "metadata": {},
   "outputs": [
    {
     "name": "stdout",
     "output_type": "stream",
     "text": [
      "24\n"
     ]
    }
   ],
   "source": [
    "client, db, collection = connect_db()\n",
    "data = get_taxon_sequence_data(collection)\n",
    "print(len(data))"
   ]
  }
 ],
 "metadata": {
  "kernelspec": {
   "display_name": "dl_plm",
   "language": "python",
   "name": "python3"
  },
  "language_info": {
   "codemirror_mode": {
    "name": "ipython",
    "version": 3
   },
   "file_extension": ".py",
   "mimetype": "text/x-python",
   "name": "python",
   "nbconvert_exporter": "python",
   "pygments_lexer": "ipython3",
   "version": "3.12.6"
  }
 },
 "nbformat": 4,
 "nbformat_minor": 2
}
